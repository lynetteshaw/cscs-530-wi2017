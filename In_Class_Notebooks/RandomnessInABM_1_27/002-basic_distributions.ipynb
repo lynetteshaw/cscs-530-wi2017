{
 "cells": [
  {
   "cell_type": "markdown",
   "metadata": {},
   "source": [
    "# CSCS530 Winter 2017\n",
    "#### Complex Systems 530 - Computer Modeling of Complex Systems \n",
    "\n",
    "  * Course ID: CMPLXSYS 530\n",
    "  * Course Title: Computer Modeling of Complex Systems\n",
    "  * Term: Winter 2017\n",
    "\n",
    "#### [View this repository on NBViewer](http://nbviewer.jupyter.org/github/lynetteshaw/cscs-530-wi2017/tree/master/)\n"
   ]
  },
  {
   "cell_type": "markdown",
   "metadata": {},
   "source": [
    "# Basic Distributions\n",
    " \n",
    "In order to incorporate randomness into our models, we need to understand basic distributions and learn how to work with them in Python.  The notebook below covers the basic shape, parameters, and sampling of the following distributions:\n",
    "  \n",
    " * uniform discrete\n",
    " * uniform continuous\n",
    " * normal/Gaussian (\"bell curve\")\n",
    " * Poisson "
   ]
  },
  {
   "cell_type": "code",
   "execution_count": null,
   "metadata": {
    "collapsed": false
   },
   "outputs": [],
   "source": [
    "# Imports\n",
    "import numpy\n",
    "import scipy.stats\n",
    "import matplotlib.pyplot as plt\n",
    "\n",
    "# Import widget methods\n",
    "from IPython.html.widgets import *"
   ]
  },
  {
   "cell_type": "markdown",
   "metadata": {},
   "source": [
    "## Continuous Uniform distribution\n",
    "\n",
    " The [continous uniform distribution](http://en.wikipedia.org/wiki/Uniform_distribution_%28continuous%29) is one of the most commonly utilized distributions.  As its name implies, it is characterized by a __uniform__ or __equal__ probability of any point being drawn from the distribution.  This is clear from the [probability density function (PDF)](http://en.wikipedia.org/wiki/Probability_density_function) below:\n",
    "\n",
    " ![caption](http://upload.wikimedia.org/wikipedia/commons/thumb/9/96/Uniform_Distribution_PDF_SVG.svg/250px-Uniform_Distribution_PDF_SVG.svg.png)\n",
    "\n",
    " We can sample a continuous uniform distribution using the [``numpy.random.uniform``](http://docs.scipy.org/doc/numpy/reference/generated/numpy.random.uniform.html) method below."
   ]
  },
  {
   "cell_type": "markdown",
   "metadata": {},
   "source": [
    "### Draw a continuous uniform sample\n",
    "\n",
    "  In the example below, we draw __``size=3``__ samples from a continous uniform distribution with range from ``-1`` to ``+1``."
   ]
  },
  {
   "cell_type": "code",
   "execution_count": null,
   "metadata": {
    "collapsed": false
   },
   "outputs": [],
   "source": [
    "numpy.random.uniform(-1, 1, size=3)"
   ]
  },
  {
   "cell_type": "markdown",
   "metadata": {},
   "source": [
    "### Visualize a continuous uniform sample\n",
    "\n",
    "  In the example below, we will visualize the distribution of __``size=100``__ continous uniform samples.  This particular type of visualization is called a [histogram](http://en.wikipedia.org/wiki/Histogram)."
   ]
  },
  {
   "cell_type": "code",
   "execution_count": null,
   "metadata": {
    "collapsed": false
   },
   "outputs": [],
   "source": [
    "%matplotlib inline\n",
    "\n",
    "# Sample random data\n",
    "r = numpy.random.uniform(0, 1, size=100)\n",
    "p = plt.hist(r)"
   ]
  },
  {
   "cell_type": "markdown",
   "metadata": {},
   "source": [
    "## Interactive exploration of continuous uniform distribution\n",
    "\n",
    "  In the interactive tool below, we will explore how a random sample drawn from the continuous uniform distribution varies with:\n",
    "  \n",
    "  * minimum and maximum of range (range_min, range_max)\n",
    "  * number of samples drawn (samples)\n",
    "  \n",
    "\n",
    "  Try varying the number of samples in the single digits, then slowly increase the number to 1000.  How does the \"smoothness\" of the average sample vary?  Compare to the probability density function figure above."
   ]
  },
  {
   "cell_type": "code",
   "execution_count": null,
   "metadata": {
    "collapsed": false
   },
   "outputs": [],
   "source": [
    "def plot_continuous_uniform(range_min=0, range_max=1, samples=100):\n",
    "    \"\"\"\n",
    "    A continuous uniform plotter that takes min/max range and sample count.\n",
    "    \"\"\"\n",
    "    \n",
    "    # Check assertions\n",
    "    assert (range_min < range_max)\n",
    "    assert (samples > 1)\n",
    "    \n",
    "    # Sample random data\n",
    "    r = numpy.random.uniform(range_min, range_max, samples)\n",
    "    p = plt.hist(r)\n",
    "\n",
    "# Call the ipython interact() method to allow us to explore the parameters and sampling\n",
    "interact(plot_continuous_uniform, range_min=(0, 10),\n",
    "         range_max = (1, 20),\n",
    "         samples = (2, 1000))"
   ]
  },
  {
   "cell_type": "markdown",
   "metadata": {},
   "source": [
    "## Discrete Uniform distribution\n",
    "\n",
    " The [discrete uniform distribution](http://en.wikipedia.org/wiki/Uniform_distribution_(discrete)) is another commonly utilized distributions.  As its name implies, it is characterized by a __uniform__ or __equal__ probability of any point being drawn from the distribution.  This is clear from the [probability density function (PDF)](http://en.wikipedia.org/wiki/Probability_density_function) below:\n",
    "\n",
    " ![caption](http://upload.wikimedia.org/wikipedia/commons/thumb/1/1f/Uniform_discrete_pmf_svg.svg/325px-Uniform_discrete_pmf_svg.svg.png)\n",
    "\n",
    " We can sample a discrete uniform distribution using the [``numpy.random.randint``](http://docs.scipy.org/doc/numpy/reference/generated/numpy.random.randint.html) method below."
   ]
  },
  {
   "cell_type": "markdown",
   "metadata": {},
   "source": [
    "### Draw a discrete uniform sample\n",
    "\n",
    "  In the example below, we draw __``size=3``__ samples from a discrete uniform distribution with range from ``0`` to ``10``."
   ]
  },
  {
   "cell_type": "code",
   "execution_count": null,
   "metadata": {
    "collapsed": false
   },
   "outputs": [],
   "source": [
    "numpy.random.randint(0, 10, size=3)"
   ]
  },
  {
   "cell_type": "markdown",
   "metadata": {},
   "source": [
    "### Visualize a discrete uniform sample\n",
    "\n",
    "  In the example below, we will visualize the distribution of __``size=100``__ discrete uniform samples."
   ]
  },
  {
   "cell_type": "code",
   "execution_count": null,
   "metadata": {
    "collapsed": false
   },
   "outputs": [],
   "source": [
    "# Sample random data\n",
    "r = numpy.random.randint(0, 10, size=100)\n",
    "p = plt.hist(r)"
   ]
  },
  {
   "cell_type": "markdown",
   "metadata": {},
   "source": [
    "## Interactive exploration of discrete uniform distribution\n",
    "\n",
    "  In the interactive tool below, we will explore how a random sample drawn from the discrete uniform distribution varies with:\n",
    "  \n",
    "  * minimum and maximum of range (range_min, range_max)\n",
    "  * number of samples drawn (samples)\n",
    "  \n",
    "\n",
    "  Try varying the number of samples in the single digits, then slowly increase the number to 1000.  How does the \"smoothness\" of the average sample vary?  Compare to the probability density function figure above."
   ]
  },
  {
   "cell_type": "code",
   "execution_count": null,
   "metadata": {
    "collapsed": false
   },
   "outputs": [],
   "source": [
    "def plot_discrete_uniform(range_min=0, range_max=10, samples=100):\n",
    "    \"\"\"\n",
    "    A discrete uniform plotter that takes min/max range and sample count.\n",
    "    \"\"\"\n",
    "    \n",
    "    # Check assertions\n",
    "    assert (range_min < range_max)\n",
    "    assert (samples > 1)\n",
    "\n",
    "    # Sample random data\n",
    "    r = numpy.random.randint(range_min, range_max, samples)\n",
    "    p = plt.hist(r)\n",
    "\n",
    "# Call the ipython interact() method to allow us to explore the parameters and sampling\n",
    "interact(plot_discrete_uniform, range_min=(-10, 10),\n",
    "         range_max = (-9, 20),\n",
    "         samples = (2, 1000))"
   ]
  },
  {
   "cell_type": "markdown",
   "metadata": {},
   "source": [
    "## Normal distribution\n",
    "\n",
    " The [normal distribution](http://en.wikipedia.org/wiki/Normal_distribution), commonly referred to as the \"bell curve\", is one of the most commmonly occuring continuous distributions in nature.  It is characterized by its __symmetry__ and its dispersion parameter, referred to as __standard deviation__.  68% of the distribution's probability mass falls within +/-1 standard deviation, and 95% of the probability mass falls within +/-2 standard deviations.\n",
    " \n",
    " The normal distribution's [probability density function (PDF)](http://en.wikipedia.org/wiki/Probability_density_function) is below:\n",
    " ![caption](http://upload.wikimedia.org/wikipedia/commons/thumb/7/74/Normal_Distribution_PDF.svg/350px-Normal_Distribution_PDF.svg.png)\n",
    "\n",
    " We can sample a normal distribution using the [``numpy.random.normal``](http://docs.scipy.org/doc/numpy/reference/generated/numpy.random.normal.html) method below."
   ]
  },
  {
   "cell_type": "markdown",
   "metadata": {},
   "source": [
    "### Draw a normal sample\n",
    "\n",
    "  In the example below, we draw __``size=3``__ samples from a normal distribution with ``mean=10`` and standard deviation ``sigma=3``."
   ]
  },
  {
   "cell_type": "code",
   "execution_count": null,
   "metadata": {
    "collapsed": false
   },
   "outputs": [],
   "source": [
    "numpy.random.normal(10, 3, size=3)"
   ]
  },
  {
   "cell_type": "markdown",
   "metadata": {},
   "source": [
    "### Visualize a normal sample\n",
    "\n",
    "  In the example below, we will visualize the distribution of __``size=100``__ normal samples."
   ]
  },
  {
   "cell_type": "code",
   "execution_count": null,
   "metadata": {
    "collapsed": false
   },
   "outputs": [],
   "source": [
    "# Sample random data\n",
    "r = numpy.random.normal(10, 3, size=100)\n",
    "p = plt.hist(r)"
   ]
  },
  {
   "cell_type": "markdown",
   "metadata": {},
   "source": [
    "## Interactive exploration of normal distribution\n",
    "\n",
    "  In the interactive tool below, we will explore how a random sample drawn from the normal distribution varies with:\n",
    "  \n",
    "  * mean\n",
    "  * standard deviation\n",
    "  * number of samples drawn (samples)\n",
    "  \n",
    " \n",
    "  In addition to a histogram, this tool also shows a [kernel density estimate (KDE)](http://en.wikipedia.org/wiki/Kernel_density_estimation).  We can use KDEs to provide us with estimates of probability density functions, either for analysis and comparison or to use in further generative contexts to sample new values.\n",
    "  "
   ]
  },
  {
   "cell_type": "code",
   "execution_count": null,
   "metadata": {
    "collapsed": false
   },
   "outputs": [],
   "source": [
    "def plot_normal(mean=0, standard_deviation=10, samples=100, window_range=100):\n",
    "    # Check assertions\n",
    "    assert (standard_deviation > 0)\n",
    "    assert (samples > 1)\n",
    "    \n",
    "    # Sample random data and visualization\n",
    "    r = numpy.random.normal(mean, standard_deviation, \n",
    "                            size=samples)\n",
    "    p = plt.hist(r, normed=True)\n",
    "    \n",
    "    # Calculate the kernel density estimate and overplot it on the histogram\n",
    "    kernel = scipy.stats.gaussian_kde(r)\n",
    "    r_range = numpy.linspace(min(r), max(r))\n",
    "    plt.plot(r_range, kernel(r_range))\n",
    "    \n",
    "    # Set the x limits\n",
    "    plt.xlim(min(-window_range, min(r)), max(window_range, max(r)))\n",
    "\n",
    "# Create the widget\n",
    "interact(plot_normal, mean=(-25, 25),\n",
    "         standard_deviation = (1, 100),\n",
    "         samples = (2, 1000),\n",
    "         window_range = (1, 100))"
   ]
  },
  {
   "cell_type": "markdown",
   "metadata": {},
   "source": [
    "## Poisson distribution\n",
    "\n",
    " The [Poisson distribution](http://en.wikipedia.org/wiki/Poisson_distribution) is, in Wikipedia's words:\n",
    " > a discrete probability distribution that expresses the probability of a given number of events occurring in a fixed interval of\n",
    " > time and/or space if these events occur with a known average rate and independently of the time since the last event. The\n",
    " > Poisson distribution can also be used for the number of events in other specified intervals such as distance, area or volume.\n",
    " \n",
    " The Poisson distribution's [probability density function (PDF)](http://en.wikipedia.org/wiki/Probability_density_function) is below:\n",
    " ![caption](http://upload.wikimedia.org/wikipedia/commons/thumb/1/16/Poisson_pmf.svg/325px-Poisson_pmf.svg.png)\n",
    "\n",
    " We can sample a normal distribution using the [``numpy.random.poisson``](http://docs.scipy.org/doc/numpy/reference/generated/numpy.random.poisson.html) method below."
   ]
  },
  {
   "cell_type": "markdown",
   "metadata": {},
   "source": [
    "### Draw a Poisson sample\n",
    "\n",
    "  In the example below, we draw __``size=3``__ samples from a Poisson distribution with ``rate=5``."
   ]
  },
  {
   "cell_type": "code",
   "execution_count": null,
   "metadata": {
    "collapsed": false
   },
   "outputs": [],
   "source": [
    "numpy.random.poisson(5, size=3)"
   ]
  },
  {
   "cell_type": "markdown",
   "metadata": {},
   "source": [
    "### Visualize a Poisson sample\n",
    "\n",
    "  In the example below, we will visualize the distribution of __``size=100``__ Poisson samples."
   ]
  },
  {
   "cell_type": "code",
   "execution_count": null,
   "metadata": {
    "collapsed": false
   },
   "outputs": [],
   "source": [
    "# Sample random data\n",
    "%matplotlib inline\n",
    "\n",
    "r = numpy.random.poisson(10, size=10000)\n",
    "p = plt.hist(r, bins = range(20))"
   ]
  },
  {
   "cell_type": "markdown",
   "metadata": {},
   "source": [
    "## Interactive exploration of Poisson distribution\n",
    "\n",
    "  In the interactive tool below, we will explore how a random sample drawn from the Poisson distribution varies with:\n",
    "  \n",
    "  * rate\n",
    "  * number of samples drawn (samples)\n",
    "  \n",
    " \n",
    "  In addition to a histogram, this tool again shows a [kernel density estimate (KDE)](http://en.wikipedia.org/wiki/Kernel_density_estimation).  Compare the KDE to the probability density function above.\n",
    "  "
   ]
  },
  {
   "cell_type": "code",
   "execution_count": null,
   "metadata": {
    "collapsed": false
   },
   "outputs": [],
   "source": [
    "def plot_poisson(rate=5, samples=100, window_range=20):\n",
    "    # Check assertions\n",
    "    assert (rate > 0)\n",
    "    assert (samples > 1)\n",
    "    \n",
    "    # Sample random data\n",
    "    r = numpy.random.poisson(rate, size=samples)\n",
    "    f = plt.figure()\n",
    "    p = plt.hist(r, normed=True)\n",
    "    \n",
    "    # Calculate the KDE and overplot\n",
    "    kernel = scipy.stats.gaussian_kde(r)\n",
    "    r_range = numpy.linspace(min(r), max(r))\n",
    "    plt.plot(r_range, kernel(r_range))\n",
    "    \n",
    "    # Set the x limits\n",
    "    plt.xlim(-1, max(max(r), window_range))\n",
    "\n",
    "# Create the ipython widget\n",
    "interact(plot_poisson, rate=(1, 100),\n",
    "         samples = (2, 10000),\n",
    "         window_range = (1, 100))"
   ]
  },
  {
   "cell_type": "markdown",
   "metadata": {
    "collapsed": true
   },
   "source": [
    "&nbsp; \n",
    "&nbsp; \n",
    "\n",
    "Copyright (c) 2014, Michael Bommarito\n",
    "All rights reserved.\n",
    "\n",
    "Redistribution and use in source and binary forms, with or without\n",
    "modification, are permitted provided that the following conditions are met:\n",
    "\n",
    "* Redistributions of source code must retain the above copyright notice, this\n",
    "  list of conditions and the following disclaimer.\n",
    "\n",
    "* Redistributions in binary form must reproduce the above copyright notice,\n",
    "  this list of conditions and the following disclaimer in the documentation\n",
    "  and/or other materials provided with the distribution.\n",
    "\n",
    "THIS SOFTWARE IS PROVIDED BY THE COPYRIGHT HOLDERS AND CONTRIBUTORS \"AS IS\"\n",
    "AND ANY EXPRESS OR IMPLIED WARRANTIES, INCLUDING, BUT NOT LIMITED TO, THE\n",
    "IMPLIED WARRANTIES OF MERCHANTABILITY AND FITNESS FOR A PARTICULAR PURPOSE ARE\n",
    "DISCLAIMED. IN NO EVENT SHALL THE COPYRIGHT HOLDER OR CONTRIBUTORS BE LIABLE\n",
    "FOR ANY DIRECT, INDIRECT, INCIDENTAL, SPECIAL, EXEMPLARY, OR CONSEQUENTIAL\n",
    "DAMAGES (INCLUDING, BUT NOT LIMITED TO, PROCUREMENT OF SUBSTITUTE GOODS OR\n",
    "SERVICES; LOSS OF USE, DATA, OR PROFITS; OR BUSINESS INTERRUPTION) HOWEVER\n",
    "CAUSED AND ON ANY THEORY OF LIABILITY, WHETHER IN CONTRACT, STRICT LIABILITY,\n",
    "OR TORT (INCLUDING NEGLIGENCE OR OTHERWISE) ARISING IN ANY WAY OUT OF THE USE\n",
    "OF THIS SOFTWARE, EVEN IF ADVISED OF THE POSSIBILITY OF SUCH DAMAGE."
   ]
  }
 ],
 "metadata": {
  "kernelspec": {
   "display_name": "Python 2",
   "language": "python",
   "name": "python2"
  },
  "language_info": {
   "codemirror_mode": {
    "name": "ipython",
    "version": 2
   },
   "file_extension": ".py",
   "mimetype": "text/x-python",
   "name": "python",
   "nbconvert_exporter": "python",
   "pygments_lexer": "ipython2",
   "version": "2.7.10"
  }
 },
 "nbformat": 4,
 "nbformat_minor": 0
}
