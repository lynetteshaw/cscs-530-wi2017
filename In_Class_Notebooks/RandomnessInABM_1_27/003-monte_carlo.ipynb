{
 "cells": [
  {
   "cell_type": "markdown",
   "metadata": {},
   "source": [
    "## CSCS530 Winter 2017\n",
    "#### Complex Systems 530 - Computer Modeling of Complex Systems\n",
    "\n",
    "  * Course ID: CMPLXSYS 530\n",
    "  * Course Title: Computer Modeling of Complex Systems\n",
    "  * Term: Winter 2017\n",
    "  \n",
    "#### [View this repository on NBViewer](http://nbviewer.jupyter.org/github/lynetteshaw/cscs-530-wi2017/tree/master/)\n"
   ]
  },
  {
   "cell_type": "markdown",
   "metadata": {},
   "source": [
    "# Monte Carlo simulations\n",
    "\n",
    "  Monte Carlo methods and simulations are philosophically related to and often incorporated into agent-based models.  In the words of [Wiki](http://en.wikipedia.org/wiki/Monte_Carlo_method#Definitions):\n",
    "  > Sawilowsky[9] distinguishes between a simulation, a Monte Carlo method, and a Monte Carlo simulation: a simulation is a \n",
    "  > fictitious representation of reality, a Monte Carlo method is a technique that can be used to solve a mathematical or\n",
    "  > statistical problem, and a Monte Carlo simulation uses repeated sampling to determine the properties of some phenomenon (or\n",
    "  > behavior). Examples:\n",
    "  >     * Simulation: Drawing one pseudo-random uniform variable from the interval [0,1] can be used to simulate the tossing of a coin: If the value is less than or equal to 0.50 designate the outcome as heads, but if the value is greater than 0.50 designate the outcome as tails. This is a simulation, but not a Monte Carlo simulation.\n",
    "  \n",
    "  >     * Monte Carlo method: Pouring out a box of coins on a table, and then computing the ratio of coins that land heads versus tails is a Monte Carlo method of determining the behavior of repeated coin tosses, but it is not a simulation.\n",
    "  \n",
    "  >     * Monte Carlo simulation: Drawing a large number of pseudo-random uniform variables from the interval [0,1], and assigning values less than or equal to 0.50 as heads and greater than 0.50 as tails, is a Monte Carlo  simulation of the behavior of repeatedly tossing a coin."
   ]
  },
  {
   "cell_type": "markdown",
   "metadata": {},
   "source": [
    "## First hitting time simulations\n",
    "\n",
    "  One classic problem in ecology and finance is __hitting time__, __stopping time__, or __passage time__ problem.  In [the first hitting time](http://en.wikipedia.org/wiki/First-hitting-time_model) problem, one models the state of some variable over time until it hits a certain condition, at which point the process stops.   \n",
    "  \n",
    "  For example, one might model the level of some renewable resource like a forest or fishery.  So long as the resource level is greater than zero, the resource can continue to regenerate; however, if at any point the \"last\" unit of the resource is extracted, then the resource dies.  Thus, we might simulate the survival of our resource under certain dynamics of growth or extraction.  Let's walk few examples below.\n"
   ]
  },
  {
   "cell_type": "markdown",
   "metadata": {},
   "source": [
    "## Uniform arithmetic growth and extraction\n",
    "\n",
    "  In our first example, let's start by simulating a single forest under the following assumptions:\n",
    "\n",
    "  * The forest starts with ``initial_resource`` units of forest.\n",
    "  * Each turn, we sample a continuous random value in ``[min_consumption, max_consumption)`` for extraction.  We decrease the forest by subtracting this amount.\n",
    "  * Each turn, we also sample a continuous random value in ``[min_growth, max_growth)`` for growth.  We increase the forest by adding this amount."
   ]
  },
  {
   "cell_type": "code",
   "execution_count": null,
   "metadata": {
    "collapsed": false
   },
   "outputs": [],
   "source": [
    "# Imports\n",
    "import numpy\n",
    "import matplotlib.pyplot as plt\n",
    "import pandas\n",
    "\n",
    "# Import widget methods\n",
    "from IPython.html.widgets import *"
   ]
  },
  {
   "cell_type": "code",
   "execution_count": null,
   "metadata": {
    "collapsed": false
   },
   "outputs": [],
   "source": [
    "# Set model parameters\n",
    "initial_resource = 2\n",
    "min_consumption = 2\n",
    "max_consumption = 3\n",
    "min_growth = 2\n",
    "max_growth = 3\n",
    "max_steps = 100000\n",
    "\n",
    "# Set model state variables\n",
    "current_resource = initial_resource\n",
    "resource_history = [current_resource]\n",
    "growth_history = []\n",
    "consumption_history = []\n",
    "\n",
    "# Continue running until the resource hits at or below zero\n",
    "while current_resource > 0:\n",
    "    # Sample growth\n",
    "    growth = numpy.random.uniform(min_growth, max_growth)\n",
    "    \n",
    "    # Sample consumption\n",
    "    consumption = numpy.random.uniform(min_consumption, max_consumption)\n",
    "    \n",
    "    # Change forest resource level\n",
    "    current_resource += growth - consumption\n",
    "    \n",
    "    # Keep track of history\n",
    "    resource_history.append(current_resource)\n",
    "    growth_history.append(growth)\n",
    "    consumption_history.append(consumption)\n",
    "    \n",
    "    # Break at max steps\n",
    "    if len(resource_history) > max_steps:\n",
    "        break"
   ]
  },
  {
   "cell_type": "code",
   "execution_count": null,
   "metadata": {
    "collapsed": false
   },
   "outputs": [],
   "source": [
    "%matplotlib inline\n",
    "\n",
    "# Plot the time series for each component\n",
    "f = plt.figure()\n",
    "plt.plot(resource_history)\n",
    "plt.xlabel('Time')\n",
    "plt.ylabel('Resource level')\n",
    "plt.title('Resource level during a single simulation')"
   ]
  },
  {
   "cell_type": "markdown",
   "metadata": {},
   "source": [
    "## Interactive simulation\n",
    "\n",
    "  Let's practice wrapping our simulation in a method so that we can create an interactive applet."
   ]
  },
  {
   "cell_type": "code",
   "execution_count": null,
   "metadata": {
    "collapsed": false
   },
   "outputs": [],
   "source": [
    "def run_simulation(initial_resource = 2, min_consumption = 2, max_consumption = 3,\n",
    "                   min_growth = 2, max_growth = 3, max_steps=100000):\n",
    "    \"\"\"\n",
    "    Simulate a resource under uniform arithmetic growth and consumption.\n",
    "    \"\"\"\n",
    "\n",
    "    # Set model state variables\n",
    "    current_resource = initial_resource\n",
    "    resource_history = [current_resource]\n",
    "    growth_history = []\n",
    "    consumption_history = []\n",
    "\n",
    "    # Continue running until the resource hits at or below zero\n",
    "    while current_resource > 0:\n",
    "        # Sample growth\n",
    "        growth = numpy.random.uniform(min_growth, max_growth)\n",
    "\n",
    "        # Sample consumption\n",
    "        consumption = numpy.random.uniform(min_consumption, max_consumption)\n",
    "\n",
    "        # Change forest resource level\n",
    "        current_resource += growth - consumption\n",
    "\n",
    "        # Keep track of history\n",
    "        resource_history.append(current_resource)\n",
    "        growth_history.append(growth)\n",
    "        consumption_history.append(consumption)\n",
    "        \n",
    "        # Break at max steps\n",
    "        if len(resource_history) > max_steps:\n",
    "            break\n",
    "    \n",
    "    # Plot the time series for each component\n",
    "    f = plt.figure()\n",
    "    plt.plot(resource_history)\n",
    "    plt.xlabel('Time')\n",
    "    plt.ylabel('Resource level')\n",
    "    plt.title('Resource level during a single simulation')\n",
    "\n",
    "# Call the ipython interact() method to allow us to explore the parameters and sampling\n",
    "interact(run_simulation, initial_resource=(1, 1000),\n",
    "         min_consumption = (0, 20),\n",
    "         max_consumption = (0, 20),\n",
    "         min_growth = (0, 20),\n",
    "         max_growth = (0, 20))"
   ]
  },
  {
   "cell_type": "markdown",
   "metadata": {},
   "source": [
    "## Monte Carlo simulation\n",
    "\n",
    "  As you adjust the sliders in the applet above, you will likely see very different simulation outcomes.  In some cases, the forest may die off quickly; in others, it may survive so long as to cause your computer to halt the simulation!  \n",
    "  \n",
    "  The important idea to understand here is that each simulation is just that - __a single simulation__.  Regardless of what might happen in a single simulation, we can not make general claims about our system from a single simulation.  Our goal is to understand the behavior of our system through the distribution of many simulations.  So instead of looking at a single simulation and basing our hitting time on this simulation, we should instead generate many simulations and look at their distribution over time.\n",
    "  \n",
    "  Let's do this below by improving our single simulation method to return the resource time series.  Then, we can wrap this method in another method that will generate many forest simulations for analysis."
   ]
  },
  {
   "cell_type": "code",
   "execution_count": null,
   "metadata": {
    "collapsed": false
   },
   "outputs": [],
   "source": [
    "def run_simulation(initial_resource=1, min_consumption=0.1, max_consumption=0.2, \n",
    "                   min_growth=0.1, max_growth=0.2, max_steps=100000):\n",
    "    \"\"\"\n",
    "    Simulate a resource under uniform arithmetic growth and consumption.\n",
    "    \"\"\"\n",
    "\n",
    "    # Set model state variables\n",
    "    current_resource = initial_resource\n",
    "    resource_history = [current_resource]\n",
    "    growth_history = []\n",
    "    consumption_history = []\n",
    "\n",
    "    # Continue running until the resource hits at or below zero\n",
    "    while current_resource > 0:\n",
    "        # Sample growth\n",
    "        growth = numpy.random.uniform(min_growth, max_growth)\n",
    "\n",
    "        # Sample consumption\n",
    "        consumption = numpy.random.uniform(min_consumption, max_consumption)\n",
    "\n",
    "        # Change forest resource level\n",
    "        current_resource += growth - consumption\n",
    "\n",
    "        # Keep track of history\n",
    "        resource_history.append(current_resource)\n",
    "        growth_history.append(growth)\n",
    "        consumption_history.append(consumption)\n",
    "        \n",
    "        # Break at max steps\n",
    "        if len(resource_history) > max_steps:\n",
    "            break\n",
    "    \n",
    "    # Plot the time series for each component\n",
    "    return resource_history\n",
    "\n",
    "def run_monte_carlo(initial_resource=1, min_consumption=0.1, max_consumption=0.2, \n",
    "                   min_growth=0.1, max_growth=0.2, max_steps=100000, num_samples = 100):\n",
    "    \"\"\"\n",
    "    Run many individual simulations and output a summary of the Monte Carlo experiment.\n",
    "    \"\"\"\n",
    "    # Sample data\n",
    "    sample_results = []\n",
    "    \n",
    "    # Run simulations\n",
    "    for sample_id in range(num_samples):\n",
    "        sample_results.append(run_simulation(initial_resource, min_consumption, max_consumption,\n",
    "                                             min_growth, max_growth, max_steps))\n",
    "        \n",
    "    return pandas.DataFrame(sample_results).T\n",
    "\n",
    "def plot_monte_carlo_runs(initial_resource=1, min_consumption=0.1, max_consumption=0.2, \n",
    "                   min_growth=0.1, max_growth=0.2, max_steps=100000, num_samples = 100):\n",
    "    # Get data and plot\n",
    "    simulation_data = run_monte_carlo(initial_resource, min_consumption, max_consumption,\n",
    "                    min_growth, max_growth, max_steps, num_samples)\n",
    "    #f = plt.figure()\n",
    "    simulation_data.plot(legend=False, alpha=0.5, linewidth=0.5, linestyle='-')\n",
    "    return simulation_data"
   ]
  },
  {
   "cell_type": "markdown",
   "metadata": {},
   "source": [
    "### Simulation Trajectories\n",
    "\n",
    "  In the plot below, we plot the result of all Monte Carlo simulationt trajectories.  You can see that many trajectories flatline at the $y=0$ axis, but that some do end up making it to our terminal condition ($t=100000$)."
   ]
  },
  {
   "cell_type": "code",
   "execution_count": null,
   "metadata": {
    "collapsed": false
   },
   "outputs": [],
   "source": [
    "%%time\n",
    "\n",
    "# Plot one set of 1000 simulations\n",
    "simulation_data = plot_monte_carlo_runs(initial_resource=1, min_consumption=0.1, max_consumption=0.2,\n",
    "                                        min_growth=0.1, max_growth=0.2, num_samples=500)"
   ]
  },
  {
   "cell_type": "markdown",
   "metadata": {},
   "source": [
    "### Average Trajectory\n",
    "  \n",
    "  Instead of trying to make sense of all 1000 samples by plotting them simultaneously,  we might instead plot the __average__ resource level at a fixed time $t$.  Additionally, we might augment this average with a view of the standard deviation or fixed percentile.  In the examples below, we'll show both options."
   ]
  },
  {
   "cell_type": "code",
   "execution_count": null,
   "metadata": {
    "collapsed": false
   },
   "outputs": [],
   "source": [
    "# Plot the average line\n",
    "#f = plt.figure()\n",
    "average_ts = simulation_data.fillna(0).mean(axis=1)\n",
    "average_ts.plot()"
   ]
  },
  {
   "cell_type": "code",
   "execution_count": null,
   "metadata": {
    "collapsed": false
   },
   "outputs": [],
   "source": [
    "# Plot the average line\n",
    "f = plt.figure()\n",
    "average_ts = simulation_data.fillna(0).mean(axis=1)\n",
    "average_ts.plot()\n",
    "\n",
    "# Overplot the +/- standard deviation bounds\n",
    "# N.B.: We can vary the treatment of \"dead\" sims using \n",
    "# the .std(skipna=True/False) argument.\n",
    "standard_deviation_ts = simulation_data.fillna(0).std(axis=1)\n",
    "lower_bound_ts = average_ts - standard_deviation_ts\n",
    "upper_bound_ts = average_ts + standard_deviation_ts\n",
    "plt.fill_between(average_ts.index, lower_bound_ts, upper_bound_ts,\n",
    "                 alpha=0.25)\n"
   ]
  },
  {
   "cell_type": "markdown",
   "metadata": {},
   "source": [
    "#### Lower bound\n",
    "\n",
    "  In this case, the lower bound definition using $\\mu - \\sigma$ results in a cone of trajectories that doesn't make sense.  Another approach would be to use a non-parametric characterization of the data, for example, by the plotting the lower quartile, median, and upper quartile."
   ]
  },
  {
   "cell_type": "code",
   "execution_count": null,
   "metadata": {
    "collapsed": false
   },
   "outputs": [],
   "source": [
    "# Get the 10th, median, and 90th percentiles\n",
    "bound_ts = simulation_data.fillna(0).quantile([0.25, 0.5, 0.75], axis=1).T\n",
    "bound_ts.columns = ['lower', 'median', 'upper']\n",
    "plt.plot(bound_ts.index, bound_ts['median'], alpha=0.5)\n",
    "plt.fill_between(bound_ts.index, bound_ts['lower'], bound_ts['upper'],\n",
    "                 alpha=0.25)"
   ]
  },
  {
   "cell_type": "markdown",
   "metadata": {},
   "source": [
    "#### Right bound\n",
    "  \n",
    "  As you can see, much of our figure is wasted on \"dead\" space on the right bound.  Let's subset our history so that we stop plotting when all three bounds hit zero."
   ]
  },
  {
   "cell_type": "code",
   "execution_count": null,
   "metadata": {
    "collapsed": false
   },
   "outputs": [],
   "source": [
    "# Get the 10th, median, and 90th percentiles\n",
    "bound_ts = bound_ts.loc[0:bound_ts.sum(axis=1).idxmin(), :]\n",
    "plt.plot(bound_ts.index, bound_ts['median'], alpha=0.5)\n",
    "plt.fill_between(bound_ts.index, bound_ts['lower'], bound_ts['upper'],\n",
    "                 alpha=0.25)"
   ]
  },
  {
   "cell_type": "markdown",
   "metadata": {},
   "source": [
    "### Distribution of values at a time\n",
    "\n",
    "  Next, let's examine the distribution of resource levels at a fixed point in time.  In the example below, we are taking a cross-section at time $t=100$ to generate our histogram.  \n",
    "  \n",
    "   Note that we have ``NA`` values in our time series for steps \"past\" the end of a simulation.  In order to include simulations that  have already died out prior to $t=100$, we need to fill these ``NA`` values with zero.  We can do this with the [``pandas.DataFrame.fillna``](http://pandas.pydata.org/pandas-docs/stable/generated/pandas.DataFrame.fillna.html) method."
   ]
  },
  {
   "cell_type": "code",
   "execution_count": null,
   "metadata": {
    "collapsed": false
   },
   "outputs": [],
   "source": [
    "# Plot the distribution of resource values at time t=10\n",
    "simulation_data.loc[100, :].fillna(0).hist()"
   ]
  },
  {
   "cell_type": "markdown",
   "metadata": {},
   "source": [
    "### First hitting time distribution\n",
    "\n",
    "  Lastly, we return to our original problem - what is the distribution of first hitting times?  In this case, this distribution tells us what our forest's expected lifetime might be based on modeled growth and consumption parameters."
   ]
  },
  {
   "cell_type": "code",
   "execution_count": null,
   "metadata": {
    "collapsed": false
   },
   "outputs": [],
   "source": [
    "# Now, let's plot the distribution of first hitting times.\n",
    "first_hitting_times = simulation_data.isnull().idxmax()\n",
    "first_hitting_times.hist(bins=100)"
   ]
  },
  {
   "cell_type": "markdown",
   "metadata": {
    "collapsed": true
   },
   "source": [
    "## Simulation Performance\n",
    "\n",
    "  While these simulations may have seemed quick compared to pen-and-paper addition, they were actually written to execute very slowly.  Let's walk through the examples below to learn about efficient sampling of many random numbers."
   ]
  },
  {
   "cell_type": "code",
   "execution_count": null,
   "metadata": {
    "collapsed": false
   },
   "outputs": [],
   "source": [
    "def run_simulation_fast(initial_resource=1, min_consumption=0.1, max_consumption=0.2, \n",
    "                   min_growth=0.1, max_growth=0.2, max_steps=100000, step_size=10000):\n",
    "    \"\"\"\n",
    "    Simulate a resource under uniform arithmetic growth and consumption.\n",
    "    \"\"\"\n",
    "\n",
    "    # Set model state variables\n",
    "    current_resource = initial_resource\n",
    "    resource_history = [current_resource]\n",
    "    growth_history = []\n",
    "    consumption_history = []\n",
    "\n",
    "    # Continue running until the resource hits at or below zero\n",
    "    while resource_history[-1] > 0:\n",
    "        # Sample growth\n",
    "        growth = numpy.random.uniform(min_growth, max_growth, step_size)\n",
    "\n",
    "        # Sample consumption\n",
    "        consumption = numpy.random.uniform(min_consumption, max_consumption, step_size)\n",
    "\n",
    "        # Keep track of history\n",
    "        resource_history.extend(resource_history[-1] + numpy.cumsum(growth) - numpy.cumsum(consumption))\n",
    "        growth_history.extend(growth)\n",
    "        consumption_history.extend(consumption)\n",
    "        \n",
    "        # Break at max steps or negative value\n",
    "        if len(resource_history) > max_steps:\n",
    "            break\n",
    "    \n",
    "    # Truncate \"extra\" negative samples and return\n",
    "    if resource_history[-1] <= 0:\n",
    "        # Get first negative index\n",
    "        first_negative_index = numpy.min(numpy.where(numpy.sign(resource_history) < 1))\n",
    "        return resource_history[0:first_negative_index]\n",
    "    else:\n",
    "        # If last value was > 0, then return full history.\n",
    "        return resource_history\n",
    "    \n"
   ]
  },
  {
   "cell_type": "markdown",
   "metadata": {},
   "source": [
    "#### Simulations with low initial resource level"
   ]
  },
  {
   "cell_type": "code",
   "execution_count": null,
   "metadata": {
    "collapsed": false
   },
   "outputs": [],
   "source": [
    "%%timeit -n 20\n",
    "resource_history = run_simulation(initial_resource=1)"
   ]
  },
  {
   "cell_type": "code",
   "execution_count": null,
   "metadata": {
    "collapsed": false
   },
   "outputs": [],
   "source": [
    "%%timeit -n 20\n",
    "resource_history = run_simulation_fast(initial_resource=1)"
   ]
  },
  {
   "cell_type": "markdown",
   "metadata": {},
   "source": [
    "#### Simulations with high initial resource level"
   ]
  },
  {
   "cell_type": "code",
   "execution_count": null,
   "metadata": {
    "collapsed": false
   },
   "outputs": [],
   "source": [
    "%%timeit -n 20\n",
    "resource_history = run_simulation(initial_resource=10)"
   ]
  },
  {
   "cell_type": "code",
   "execution_count": null,
   "metadata": {
    "collapsed": false
   },
   "outputs": [],
   "source": [
    "%%timeit -n 20\n",
    "resource_history = run_simulation_fast(initial_resource=10)"
   ]
  },
  {
   "cell_type": "markdown",
   "metadata": {},
   "source": [
    "### What's the secret?\n",
    "\n",
    "  In the first head-to-head comparison, our initial conditions resulted in forests that had comparatively lower expected lifetimes.  As a result, many of the simulations ended quickly, and the \"batch\" simulation of many steps resulted in \"wasted\" samples corresponding to dead forests that had to be thrown away.\n",
    "  \n",
    "  In the second head-to-head comparison, our initial conditions resulted in forests that had much longer expected lifetimes; many of the simulations will make it to the ``max_steps`` lifetime, at which time the simulation will halt.  As a result, we were able to __amortize__ the batch random number sampling over much larger simulation periods, and the fast method's performance was even better."
   ]
  },
  {
   "cell_type": "markdown",
   "metadata": {},
   "source": [
    "### Is there a faster way?\n",
    "\n",
    "  In some cases, we can produce an even faster simulation method.   Let's examine the code below."
   ]
  },
  {
   "cell_type": "code",
   "execution_count": null,
   "metadata": {
    "collapsed": true
   },
   "outputs": [],
   "source": [
    "def run_simulation_fastest(initial_resource=1, min_consumption=0.1, max_consumption=0.2, \n",
    "                   min_growth=0.1, max_growth=0.2, max_steps=100000):\n",
    "    \"\"\"\n",
    "    Simulate a resource under uniform arithmetic growth and consumption.\n",
    "    \"\"\"\n",
    "\n",
    "    # Set model state variables\n",
    "    resource_history = initial_resource + \\\n",
    "        numpy.cumsum(numpy.random.uniform(min_growth, max_growth, max_steps)) - \\\n",
    "        numpy.cumsum(numpy.random.uniform(min_consumption, max_consumption, max_steps))\n",
    "\n",
    "    # Truncate \"extra\" negative samples and return\n",
    "    if resource_history[-1] <= 0:\n",
    "        # Get first negative index\n",
    "        first_negative_index = numpy.min(numpy.where(numpy.sign(resource_history) < 1))\n",
    "        return resource_history[0:first_negative_index]\n",
    "    else:\n",
    "        # If last value was > 0, then return full history.\n",
    "        return resource_history  \n"
   ]
  },
  {
   "cell_type": "markdown",
   "metadata": {},
   "source": [
    "#### Simulations with low initial resource level"
   ]
  },
  {
   "cell_type": "code",
   "execution_count": null,
   "metadata": {
    "collapsed": false
   },
   "outputs": [],
   "source": [
    "%%timeit -n 20\n",
    "resource_history = run_simulation(initial_resource=1)"
   ]
  },
  {
   "cell_type": "code",
   "execution_count": null,
   "metadata": {
    "collapsed": false
   },
   "outputs": [],
   "source": [
    "%%timeit -n 20\n",
    "resource_history = run_simulation_fast(initial_resource=1)"
   ]
  },
  {
   "cell_type": "code",
   "execution_count": null,
   "metadata": {
    "collapsed": false
   },
   "outputs": [],
   "source": [
    "%%timeit -n 20\n",
    "resource_history = run_simulation_fastest(initial_resource=1)"
   ]
  },
  {
   "cell_type": "markdown",
   "metadata": {},
   "source": [
    "#### Simulations with high initial resource level"
   ]
  },
  {
   "cell_type": "code",
   "execution_count": null,
   "metadata": {
    "collapsed": false
   },
   "outputs": [],
   "source": [
    "%%timeit -n 20\n",
    "resource_history = run_simulation(initial_resource=10)"
   ]
  },
  {
   "cell_type": "code",
   "execution_count": null,
   "metadata": {
    "collapsed": false
   },
   "outputs": [],
   "source": [
    "%%timeit -n 20\n",
    "resource_history = run_simulation_fast(initial_resource=10)"
   ]
  },
  {
   "cell_type": "code",
   "execution_count": null,
   "metadata": {
    "collapsed": false
   },
   "outputs": [],
   "source": [
    "%%timeit -n 20\n",
    "resource_history = run_simulation_fastest(initial_resource=10)"
   ]
  },
  {
   "cell_type": "markdown",
   "metadata": {},
   "source": [
    "### What's the secret (this time)?\n",
    "\n",
    "  If you're recall the section on __algorithmic complexity__ from [Chapter 3 of our Thinking Complexity book](http://www.greenteapress.com/compmod/html/thinkcomplexity004.html), you might notice that our \"fastest\" method appears to have a run time that doesn't vary with ``initial_resource``, whereas the \"normal\" and \"fast\" methods do.  In this case, we have an algorithm that is linear with ``max_steps`` but constant with respect to all other parameters.\n",
    "  \n",
    "  In general, we cannot always implement simulations in this fashion.  However, here are a few hints or restatements that you might be able to improve your simulation:\n",
    "  \n",
    "  * you sample many values from a random distribution whose parameters are __constant__ or __stationary__\n",
    "  * you __do not__ have state-dependence in the sampling of your random variables\n",
    "  * you can represent your step dynamics using vector or matrix operations, e.g., element-wise or cumulative arithmetic like addition or multiplication"
   ]
  },
  {
   "cell_type": "markdown",
   "metadata": {},
   "source": [
    "&nbsp; \n",
    "&nbsp; \n",
    "&nbsp; \n",
    "\n",
    "\n",
    "Copyright (c) 2014, Michael Bommarito\n",
    "All rights reserved.\n",
    "\n",
    "Redistribution and use in source and binary forms, with or without\n",
    "modification, are permitted provided that the following conditions are met:\n",
    "\n",
    "* Redistributions of source code must retain the above copyright notice, this\n",
    "  list of conditions and the following disclaimer.\n",
    "\n",
    "* Redistributions in binary form must reproduce the above copyright notice,\n",
    "  this list of conditions and the following disclaimer in the documentation\n",
    "  and/or other materials provided with the distribution.\n",
    "\n",
    "THIS SOFTWARE IS PROVIDED BY THE COPYRIGHT HOLDERS AND CONTRIBUTORS \"AS IS\"\n",
    "AND ANY EXPRESS OR IMPLIED WARRANTIES, INCLUDING, BUT NOT LIMITED TO, THE\n",
    "IMPLIED WARRANTIES OF MERCHANTABILITY AND FITNESS FOR A PARTICULAR PURPOSE ARE\n",
    "DISCLAIMED. IN NO EVENT SHALL THE COPYRIGHT HOLDER OR CONTRIBUTORS BE LIABLE\n",
    "FOR ANY DIRECT, INDIRECT, INCIDENTAL, SPECIAL, EXEMPLARY, OR CONSEQUENTIAL\n",
    "DAMAGES (INCLUDING, BUT NOT LIMITED TO, PROCUREMENT OF SUBSTITUTE GOODS OR\n",
    "SERVICES; LOSS OF USE, DATA, OR PROFITS; OR BUSINESS INTERRUPTION) HOWEVER\n",
    "CAUSED AND ON ANY THEORY OF LIABILITY, WHETHER IN CONTRACT, STRICT LIABILITY,\n",
    "OR TORT (INCLUDING NEGLIGENCE OR OTHERWISE) ARISING IN ANY WAY OUT OF THE USE\n",
    "OF THIS SOFTWARE, EVEN IF ADVISED OF THE POSSIBILITY OF SUCH DAMAGE."
   ]
  },
  {
   "cell_type": "code",
   "execution_count": null,
   "metadata": {
    "collapsed": true
   },
   "outputs": [],
   "source": []
  }
 ],
 "metadata": {
  "kernelspec": {
   "display_name": "Python 2",
   "language": "python",
   "name": "python2"
  },
  "language_info": {
   "codemirror_mode": {
    "name": "ipython",
    "version": 2
   },
   "file_extension": ".py",
   "mimetype": "text/x-python",
   "name": "python",
   "nbconvert_exporter": "python",
   "pygments_lexer": "ipython2",
   "version": "2.7.10"
  }
 },
 "nbformat": 4,
 "nbformat_minor": 0
}
