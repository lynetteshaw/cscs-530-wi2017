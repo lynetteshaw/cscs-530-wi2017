{
 "cells": [
  {
   "cell_type": "markdown",
   "metadata": {},
   "source": [
    "## CSCS530 Winter 2017\n",
    "#### Complex Systems 530 - Computer Modeling of Complex Systems (Winter 2017)\n",
    "\n",
    "  * Course ID: CMPLXSYS 530\n",
    "  * Course Title: Computer Modeling of Complex Systems\n",
    "  * Term: Winter 2017\n",
    "  * Schedule: Wednesdays and Friday, 1:00-2:30PM ET"
   ]
  },
  {
   "cell_type": "markdown",
   "metadata": {},
   "source": [
    "# NetworkX Introduction\n",
    "\n",
    "This notebook provides some explorations of the Python NetworkX package. For a quick introduction to the package and its capabilities, see the [NetworkX Tutorial](http://networkx.readthedocs.io/en/networkx-1.10/tutorial/index.html) and [NetworkX Reference](http://networkx.readthedocs.io/en/networkx-1.10/reference/index.html) pages.\n",
    "\n",
    "&nbsp; \n"
   ]
  },
  {
   "cell_type": "code",
   "execution_count": null,
   "metadata": {
    "collapsed": false
   },
   "outputs": [],
   "source": [
    "%matplotlib inline\n",
    "\n",
    "# Imports\n",
    "import networkx as nx\n",
    "import numpy\n",
    "import matplotlib.pyplot as plt\n"
   ]
  },
  {
   "cell_type": "markdown",
   "metadata": {},
   "source": [
    "# Deterministic graph construction\n",
    "\n",
    "We can begin with manually creating a deterministic graph via adding individual nodes and edges.\n",
    "\n",
    "### Things to try \n",
    "* Add more nodes and edges using a list\n",
    "* For the Graph class, creating edge(a,b) automatically entails the creation of edge(b,a). For a directed graph, however, this is not the case. Create a variant of the below using the DiGraph class to see how this works in practice.\n",
    "\n",
    "&nbsp; \n"
   ]
  },
  {
   "cell_type": "code",
   "execution_count": null,
   "metadata": {
    "collapsed": false
   },
   "outputs": [],
   "source": [
    "g = nx.Graph()\n",
    "print((g.number_of_nodes(), g.number_of_edges()))"
   ]
  },
  {
   "cell_type": "code",
   "execution_count": null,
   "metadata": {
    "collapsed": false
   },
   "outputs": [],
   "source": [
    "g.add_node(\"alice\")\n",
    "print((g.number_of_nodes(), g.number_of_edges()))"
   ]
  },
  {
   "cell_type": "code",
   "execution_count": null,
   "metadata": {
    "collapsed": false
   },
   "outputs": [],
   "source": [
    "g.add_node(\"bob\")\n",
    "print((g.number_of_nodes(), g.number_of_edges()))\n",
    "print g.nodes()"
   ]
  },
  {
   "cell_type": "code",
   "execution_count": null,
   "metadata": {
    "collapsed": false
   },
   "outputs": [],
   "source": [
    "g.add_edge(\"alice\", \"bob\")\n",
    "print((g.number_of_nodes(), g.number_of_edges()))\n",
    "print g.edges()"
   ]
  },
  {
   "cell_type": "code",
   "execution_count": null,
   "metadata": {
    "collapsed": false
   },
   "outputs": [],
   "source": [
    "# Draw the random graph\n",
    "g_layout = nx.spring_layout(g, iterations=1000)\n",
    "nx.draw_networkx(g, pos=g_layout)"
   ]
  },
  {
   "cell_type": "markdown",
   "metadata": {},
   "source": [
    "## Adding node and edge attributes\n",
    "\n",
    "We can now start playing around with adding node and edge attributes.\n",
    "\n",
    "### Things to try\n",
    "* Make up new attributes to add to nodes and edges\n",
    "* Consider a DiGraph variation of this graph and see how attributes work in that context\n",
    "\n",
    "&nbsp; \n"
   ]
  },
  {
   "cell_type": "code",
   "execution_count": null,
   "metadata": {
    "collapsed": false
   },
   "outputs": [],
   "source": [
    "# First, lets have a look at the node and edge dictionaries\n",
    "\n",
    "print g.node\n",
    "print g.edge"
   ]
  },
  {
   "cell_type": "code",
   "execution_count": null,
   "metadata": {
    "collapsed": false
   },
   "outputs": [],
   "source": [
    "# Now lets add some node attributes\n",
    "\n",
    "g.node['bob']['age'] = 25\n",
    "g.node['alice']['career'] = \"astronaut\"\n",
    "\n",
    "print g.node\n",
    "\n"
   ]
  },
  {
   "cell_type": "code",
   "execution_count": null,
   "metadata": {
    "collapsed": false
   },
   "outputs": [],
   "source": [
    "# And some node attributes. Would you expect this to work differently in a directed graph?\n",
    "\n",
    "g.edge['bob']['alice']['love'] = True\n",
    "g.edge['alice']['bob']['weight'] = .40\n",
    "\n",
    "print g.edge\n",
    "\n"
   ]
  },
  {
   "cell_type": "markdown",
   "metadata": {},
   "source": [
    "# Probabilistic graph construction\n",
    "\n",
    "Next, let's simulate our own growing graph.  We'll use the following procedure:\n",
    "  1. each time step, sample a number of nodes to add\n",
    "  2. for each node added, add an edge between it and the previously added node\n",
    "  3. with some probability, add \n",
    "  \n",
    "  \n",
    "### Things to try\n",
    "* How does *prob_triad* work? What happens when you change its value? What metric can you compute on the network to get at the changes in network structure it causes?\n",
    "* NetworkX comes with a lot of layout options. Experiment with different layouts to see how they look.\n",
    "* Add random edge weights between [0.0,1.0] to newly created edges\n",
    "* Randomly remove some edges from the network and see how it affects your giant component \n",
    "\n",
    "&nbsp; \n"
   ]
  },
  {
   "cell_type": "code",
   "execution_count": null,
   "metadata": {
    "collapsed": false
   },
   "outputs": [],
   "source": [
    "# Create a new graph\n",
    "g = nx.Graph()\n",
    "num_steps = 10\n",
    "prob_triad = 0.9\n",
    "\n",
    "# Iterate through time\n",
    "for t in range(num_steps):\n",
    "    # Draw a random number of nodes to add\n",
    "    num_nodes_add = numpy.random.binomial(10, 0.25)\n",
    "    num_edges_add = 0\n",
    "    \n",
    "    for i in range(g.number_of_nodes(), g.number_of_nodes() + num_nodes_add):\n",
    "        print(\"adding node {0} at time step {1}\".format(i, t))\n",
    "        g.add_node(i)\n",
    "        \n",
    "        if i > 0:\n",
    "            print(\"adding edge from {0} to {1} at time step {2}\".format(i, i-1, t))\n",
    "            g.add_edge(i, i-1)\n",
    "            num_edges_add += 1\n",
    "            \n",
    "        if i > 3:\n",
    "            if numpy.random.random() < prob_triad:\n",
    "                print(\"adding edge from {0} to {1} at time step {2}\".format(i, i-2, t))\n",
    "                g.add_edge(i, i-2)\n",
    "                num_edges_add += 1\n",
    "    \n",
    "    print((num_nodes_add, num_edges_add))    "
   ]
  },
  {
   "cell_type": "code",
   "execution_count": null,
   "metadata": {
    "collapsed": false
   },
   "outputs": [],
   "source": [
    "# Draw the random graph\n",
    "g_layout = nx.spring_layout(g, iterations=100)\n",
    "nx.draw_networkx(g, pos=g_layout)\n"
   ]
  },
  {
   "cell_type": "code",
   "execution_count": null,
   "metadata": {
    "collapsed": false
   },
   "outputs": [],
   "source": [
    "# Get the giant component\n",
    "giant_component = g.subgraph(sorted(nx.connected_components(g), key = len, reverse=True)[0])\n",
    "\n",
    "# Draw the giant component\n",
    "g_layout = nx.spring_layout(giant_component, iterations=100)\n",
    "nx.draw_networkx(giant_component, pos=g_layout)"
   ]
  },
  {
   "cell_type": "markdown",
   "metadata": {},
   "source": [
    "Copyright (c) 2014, Michael Bommarito All rights reserved.\n",
    "\n",
    "Redistribution and use in source and binary forms, with or without modification, are permitted provided that the following conditions are met:\n",
    "\n",
    "- Redistributions of source code must retain the above copyright notice, this list of conditions and the following disclaimer.\n",
    "\n",
    "- Redistributions in binary form must reproduce the above copyright notice, this list of conditions and the following disclaimer in the documentation and/or other materials provided with the distribution.\n",
    "\n",
    "THIS SOFTWARE IS PROVIDED BY THE COPYRIGHT HOLDERS AND CONTRIBUTORS \"AS IS\" AND ANY EXPRESS OR IMPLIED WARRANTIES, INCLUDING, BUT NOT LIMITED TO, THE IMPLIED WARRANTIES OF MERCHANTABILITY AND FITNESS FOR A PARTICULAR PURPOSE ARE DISCLAIMED. IN NO EVENT SHALL THE COPYRIGHT HOLDER OR CONTRIBUTORS BE LIABLE FOR ANY DIRECT, INDIRECT, INCIDENTAL, SPECIAL, EXEMPLARY, OR CONSEQUENTIAL DAMAGES (INCLUDING, BUT NOT LIMITED TO, PROCUREMENT OF SUBSTITUTE GOODS OR SERVICES; LOSS OF USE, DATA, OR PROFITS; OR BUSINESS INTERRUPTION) HOWEVER CAUSED AND ON ANY THEORY OF LIABILITY, WHETHER IN CONTRACT, STRICT LIABILITY, OR TORT (INCLUDING NEGLIGENCE OR OTHERWISE) ARISING IN ANY WAY OUT OF THE USE OF THIS SOFTWARE, EVEN IF ADVISED OF THE POSSIBILITY OF SUCH DAMAGE"
   ]
  }
 ],
 "metadata": {
  "anaconda-cloud": {},
  "kernelspec": {
   "display_name": "Python [default]",
   "language": "python",
   "name": "python2"
  },
  "language_info": {
   "codemirror_mode": {
    "name": "ipython",
    "version": 2
   },
   "file_extension": ".py",
   "mimetype": "text/x-python",
   "name": "python",
   "nbconvert_exporter": "python",
   "pygments_lexer": "ipython2",
   "version": "2.7.12"
  }
 },
 "nbformat": 4,
 "nbformat_minor": 0
}
