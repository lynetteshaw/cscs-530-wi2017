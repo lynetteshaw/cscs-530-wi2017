{
 "cells": [
  {
   "cell_type": "markdown",
   "metadata": {},
   "source": [
    "## CSCS530 Winter 2017\n",
    "#### Complex Systems 530 - Computer Modeling of Complex Systems (Winter 2017)\n",
    "\n",
    "  * Course ID: CMPLXSYS 530\n",
    "  * Course Title: Computer Modeling of Complex Systems\n",
    "  * Term: Winter 2017\n",
    "  * Schedule: Wednesdays and Friday, 1:00-2:30PM ET\n",
    "\n",
    "#### [View this repository on NBViewer](http://nbviewer.jupyter.org/github/lynetteshaw/cscs-530-wi2017/tree/master/)"
   ]
  },
  {
   "cell_type": "markdown",
   "metadata": {},
   "source": [
    "# Schelling Model (basic)\n",
    "\n",
    "\n",
    "### Model Description\n",
    "\n",
    "In \"Dynamics Models of Segregation\" (1971), Thomas Schelling describes a model of how moderate preferences at the individual level can give rise to emergent patterns of seperation. At the beginning of Chapter 10 in  _Think Complexity_ (p. 91), Downey describes the model as follows:\n",
    "\n",
    "&nbsp; \n",
    "\n",
    "\n",
    "\n",
    "> The Schelling model of the world is a grid; each cell represents a house. The houses are occupied by two kinds of “agents,” labeled red and blue, in roughly equal numbers. About 10% of the houses are empty.\n",
    "\n",
    "> At any point in time, an agent might be happy or unhappy, depending on the other agents in the neighborhood. The neighborhood of each house is the set of eight adjacent cells. In one version of the model, agents are happy if they have at least two neighbors like themselves, and unhappy if they have one or zero.\n",
    "\n",
    "> The simulation proceeds by choosing an agent at random and checking to see whether it is\n",
    "happy. If so, then nothing happens; if not, the agent chooses one of the unoccupied cells at\n",
    "random and moves.\n",
    "\n",
    "&nbsp; \n",
    "\n",
    "\n",
    "The goal of the ABM present here is to implement a basic version of this model and demonstrate how these emergent patterns arise."
   ]
  },
  {
   "cell_type": "code",
   "execution_count": null,
   "metadata": {
    "collapsed": false
   },
   "outputs": [],
   "source": [
    "%matplotlib inline\n",
    "\n",
    "# Imports\n",
    "import copy\n",
    "import itertools\n",
    "\n",
    "import numpy\n",
    "import matplotlib.pyplot as plt\n",
    "import pandas\n",
    "\n",
    "\n",
    "# Import widget methods\n",
    "#from IPython.html.widgets import *\n",
    "from  ipywidgets import *"
   ]
  },
  {
   "cell_type": "markdown",
   "metadata": {},
   "source": [
    "## Building a grid\n",
    "\n",
    "&nbsp; \n",
    "\n",
    "In the sample below, we'll create a simple square grid and fill the grid with households.  The parameters below will guide our model as follows:\n",
    "  \n",
    "  * __``grid_size``__: the number of cells per row or column; the total number of cells is $grid\\_size^2$.\n",
    "  * __``group_proportion``__: the percentage of households that will be of type 1\n",
    "  * __``density``__: the percentage of grid cells that will be populated with a household\n",
    "  \n",
    "&nbsp; \n",
    "\n",
    "The logic for our grid initialization can be described as follows:\n",
    "  \n",
    "  * For each cell in every row and column\n",
    "      * Draw a random value on $[0, 1)$ and compare to $density$ to determine if we will fill this cell\n",
    "      * If the cell will be filled, draw a random value on $[0, 1)$ and compare to $group\\_proportion$ to determine whether the household will be 1 or 2\n",
    "\n",
    "&nbsp; "
   ]
  },
  {
   "cell_type": "code",
   "execution_count": null,
   "metadata": {
    "collapsed": false
   },
   "outputs": [],
   "source": [
    "# Set parameters\n",
    "grid_size = 20\n",
    "group_proportion = 0.25\n",
    "density = 0.5\n",
    "\n",
    "# Create the space and activate random cells\n",
    "space = numpy.zeros((grid_size, grid_size), dtype=numpy.int8)\n",
    "\n",
    "# Now sample the agents.\n",
    "for row_id in range(grid_size):\n",
    "    for col_id in range(grid_size):\n",
    "        # Determine if this cell will be populated\n",
    "        if numpy.random.random() <= density:\n",
    "            # Determine this cell's initial group\n",
    "            if numpy.random.random() <= group_proportion:\n",
    "                cell_type = 1\n",
    "            else:\n",
    "                cell_type = 2\n",
    "            \n",
    "            # Set the space\n",
    "            space[row_id, col_id] = cell_type\n",
    "        \n",
    "# Now show the space\n",
    "f = plt.figure()\n",
    "p = plt.pcolor(space, cmap = \"Oranges\", snap=True)\n",
    "c = plt.colorbar()"
   ]
  },
  {
   "cell_type": "markdown",
   "metadata": {},
   "source": [
    "### Initialization method\n",
    "\n",
    "  Below, we wrap the test method above in a method named ``initialize_space``.  We need to setup the following parameters:\n",
    "  \n",
    "  * __``grid_size``__: number of cells in each row or column\n",
    "  * __``group_proportion``__: percentage of initial population that will be of group 1\n",
    "  * __``density``__: percentage of cells that will be occupied in the space"
   ]
  },
  {
   "cell_type": "code",
   "execution_count": null,
   "metadata": {
    "collapsed": false
   },
   "outputs": [],
   "source": [
    "def initialize_space(grid_size, group_proportion, density):\n",
    "    \"\"\"\n",
    "    Initialize a space.\n",
    "    \"\"\"\n",
    "    \n",
    "    # Create the space and activate random cells\n",
    "    space = numpy.zeros((grid_size, grid_size), dtype=numpy.int8)\n",
    "\n",
    "    # Now sample the agents.\n",
    "    for row_id in range(grid_size):\n",
    "        for col_id in range(grid_size):\n",
    "            # Determine if this cell will be populated\n",
    "            if numpy.random.random() <= density:\n",
    "                # Determine this cell's initial group\n",
    "                if numpy.random.random() <= group_proportion:\n",
    "                    cell_type = 1\n",
    "                else:\n",
    "                    cell_type = 2\n",
    "\n",
    "                # Set the cell\n",
    "                space[row_id, col_id] = cell_type\n",
    "\n",
    "    return space"
   ]
  },
  {
   "cell_type": "markdown",
   "metadata": {},
   "source": [
    "### Testing out space initialization\n",
    "\n",
    "  Let's test out our ``initialize_space`` method by visualizing for given parameters below."
   ]
  },
  {
   "cell_type": "code",
   "execution_count": null,
   "metadata": {
    "collapsed": false
   },
   "outputs": [],
   "source": [
    "# Set parameters\n",
    "grid_size = 10\n",
    "group_proportion = 0.25\n",
    "happy_proportion = 0.5\n",
    "density = 0.5\n",
    "window = 1\n",
    "\n",
    "def display_space(grid_size=10, group_proportion=0.5, density=0.5):\n",
    "    # Check\n",
    "    assert(grid_size > 1)\n",
    "    assert(group_proportion >= 0.0)\n",
    "    assert(group_proportion <= 1.0)\n",
    "    assert(density >= 0.0)\n",
    "    assert(density <= 1.0)\n",
    "\n",
    "    # Initialize space\n",
    "    space = initialize_space(grid_size, group_proportion, density)\n",
    "\n",
    "    # Plot\n",
    "    f = plt.figure()\n",
    "    p = plt.pcolor(space, cmap = \"Oranges\")\n",
    "    c = plt.colorbar()\n",
    "\n",
    "# Setup widget\n",
    "interact(display_space,\n",
    "         grid_size= widgets.IntSlider(min=2, max=100, value=10),\n",
    "         group_proportion= widgets.FloatSlider(min=0.0, max=1.0, value=0.5),\n",
    "         density= widgets.FloatSlider(min=0.0, max=1.0, value=0.5))"
   ]
  },
  {
   "cell_type": "code",
   "execution_count": null,
   "metadata": {
    "collapsed": false
   },
   "outputs": [],
   "source": [
    "# Pick a random household\n",
    "household_list = numpy.column_stack(numpy.where(space > 0))\n",
    "household_id = numpy.random.choice(range(len(household_list)))\n",
    "\n",
    "# Check if the household is happy\n",
    "row, col = household_list[household_id]\n",
    "household_type = space[row, col]\n",
    "\n",
    "# Get the set of positions with grid wrapping for neighbors\n",
    "neighbor_pos = [(x % grid_size, y % grid_size)\n",
    "                for x, y in itertools.product(range(row-window, row+window+1),\n",
    "                                              range(col-window, col+window+1))]\n",
    "neighborhood = numpy.reshape([space[x, y] for x, y in neighbor_pos],\n",
    "              (2*window+1, 2*window+1))\n",
    "\n",
    "# Count the number of neighbors of same type\n",
    "neighbor_count = len(numpy.where(neighborhood == household_type)[0]) - 1\n",
    "neighbor_fraction = float(neighbor_count) / ((2 * window + 1) **2 - 1)\n",
    "\n",
    "# Output counts\n",
    "print(\"Household type: {0}\".format(household_type))\n",
    "print(\"Neighborhood:\")\n",
    "print(neighborhood)\n",
    "print(\"Number of similar neighbors:\")\n",
    "print(neighbor_count)\n",
    "print(\"Fraction of similar neighbors:\")\n",
    "print(neighbor_fraction)"
   ]
  },
  {
   "cell_type": "code",
   "execution_count": null,
   "metadata": {
    "collapsed": false
   },
   "outputs": [],
   "source": [
    "def run_model_step(space, happy_proportion, window):\n",
    "    \"\"\"\n",
    "    Run  a step of the model.\n",
    "    \"\"\"\n",
    "    space = copy.copy(space)\n",
    "    grid_size = space.shape[0]\n",
    "    \n",
    "    # Get list of empty and occupied\n",
    "    household_list = numpy.column_stack(numpy.where(space > 0))\n",
    "    \n",
    "    # Pick a random house\n",
    "    household_id = numpy.random.choice(range(len(household_list)))\n",
    "\n",
    "    # Check if the household is happy\n",
    "    row, col = household_list[household_id]\n",
    "    household_type = space[row, col]\n",
    "    \n",
    "    # Get the set of positions with grid wrapping for neighbors\n",
    "    neighbor_pos = [(x % grid_size, y % grid_size)\n",
    "                    for x, y in itertools.product(range(row-window, row+window+1),\n",
    "                                                  range(col-window, col+window+1))]\n",
    "    neighborhood = numpy.reshape([space[x, y] for x, y in neighbor_pos],\n",
    "                  (2*window+1, 2*window+1))\n",
    "\n",
    "    # Count the number of neighbors of same type\n",
    "    neighbor_count = len(numpy.where(neighborhood == household_type)[0]) - 1\n",
    "    neighbor_fraction = float(neighbor_count) / ((2 * window + 1) **2 - 1)\n",
    "    \n",
    "    # If the house is unhappy, move.\n",
    "    if neighbor_fraction < happy_proportion:\n",
    "        # Get empty cells\n",
    "        empty_list = numpy.column_stack(numpy.where(space == 0))\n",
    "        \n",
    "        # Get empty target cell\n",
    "        target_cell_id = numpy.random.choice(range(len(empty_list)))\n",
    "        target_row, target_col = empty_list[target_cell_id]\n",
    "        \n",
    "        # Move the agent\n",
    "        space[row, col] = 0\n",
    "        space[target_row, target_col] = household_type\n",
    "\n",
    "    return space"
   ]
  },
  {
   "cell_type": "code",
   "execution_count": null,
   "metadata": {
    "collapsed": false
   },
   "outputs": [],
   "source": [
    "# Set parameters\n",
    "grid_size = 50\n",
    "group_proportion = 0.33\n",
    "happy_proportion = 0.33\n",
    "density = 0.5\n",
    "window = 3\n",
    "max_steps = 100000\n",
    "\n",
    "# Initialize space\n",
    "space = initialize_space(grid_size, group_proportion, density)\n",
    "\n",
    "# Setup space\n",
    "space_history = [space]\n",
    "\n",
    "# Iterate\n",
    "for i in range(max_steps):\n",
    "    # Append step history\n",
    "    space_history.append(run_model_step(space_history[-1],\n",
    "                                        happy_proportion,\n",
    "                                        window))"
   ]
  },
  {
   "cell_type": "code",
   "execution_count": null,
   "metadata": {
    "collapsed": true
   },
   "outputs": [],
   "source": [
    "def display_space_step(step=1):\n",
    "    f = plt.figure()\n",
    "    plt.pcolor(space_history[step], cmap=\"Oranges\")\n",
    "    plt.colorbar()\n",
    "    ax = f.gca()\n",
    "    ax.set_aspect(1./ax.get_data_ratio())   "
   ]
  },
  {
   "cell_type": "code",
   "execution_count": null,
   "metadata": {
    "collapsed": false
   },
   "outputs": [],
   "source": [
    "interact(display_space_step,\n",
    "                step=widgets.IntSlider(min=1, max=len(space_history)-1,\n",
    "                                     step=1))"
   ]
  },
  {
   "cell_type": "markdown",
   "metadata": {},
   "source": [
    "### Automate simulation"
   ]
  },
  {
   "cell_type": "code",
   "execution_count": null,
   "metadata": {
    "collapsed": false
   },
   "outputs": [],
   "source": [
    "%%time\n",
    "\n",
    "def run_model_simulation(grid_size = 50, group_proportion = 0.33, happy_proportion = 0.33,\n",
    "                         density = .90, window = 1, max_steps = 100000):\n",
    "    \"\"\"\n",
    "    Run a full model simulation.\n",
    "    \"\"\"\n",
    "\n",
    "    # Initialize space\n",
    "    space = initialize_space(grid_size, group_proportion, density)\n",
    "\n",
    "    # Setup space\n",
    "    space_history = [space]\n",
    "\n",
    "    # Iterate\n",
    "    for i in range(max_steps):\n",
    "        # Append step history\n",
    "        space_history.append(run_model_step(space_history[-1],\n",
    "                                            happy_proportion,\n",
    "                                            window))\n",
    "\n",
    "    return space_history\n",
    "\n",
    "# Run the simulation and output\n",
    "space_history = run_model_simulation(grid_size=25, happy_proportion=0.50, window=1, max_steps=10000)\n",
    "interact(display_space_step,\n",
    "                step= widgets.IntSlider(min=1, max=len(space_history)-1,\n",
    "                                     step=1))"
   ]
  },
  {
   "cell_type": "code",
   "execution_count": null,
   "metadata": {
    "collapsed": false
   },
   "outputs": [],
   "source": [
    "space_history[9999][9,11]"
   ]
  },
  {
   "cell_type": "code",
   "execution_count": null,
   "metadata": {
    "collapsed": false
   },
   "outputs": [],
   "source": [
    "def get_neighbor_distribution(space, window=1):\n",
    "    \"\"\"\n",
    "    Get distribution of neighbor fractions.\n",
    "    \"\"\"\n",
    "    \n",
    "    fractions = numpy.full(space.shape, numpy.nan)\n",
    "    grid_size = space.shape[0]\n",
    "    \n",
    "    # Get a measure of clustering\n",
    "    for row in range(grid_size):\n",
    "        for col in range(grid_size):\n",
    "            # Check if cell is occupied\n",
    "            if space[row, col] == 0:\n",
    "                continue\n",
    "            else:\n",
    "                household_type = space[row, col]\n",
    "                \n",
    "            neighbor_pos = [1 for x, y in itertools.product(range(row-window, row+window+1),\n",
    "                                                          range(col-window, col+window+1))\n",
    "                               if space[x % grid_size, y % grid_size] == household_type]\n",
    "            fractions[row, col] = float(sum(neighbor_pos)-1) / ((2 * window + 1) **2 - 1)\n",
    "    \n",
    "    return fractions\n",
    "\n",
    "# Get the degree of clustering at each time step\n",
    "cluster_history = []\n",
    "cluster_mean_ts = []\n",
    "for step in range(len(space_history)):\n",
    "    cluster_history.append(get_neighbor_distribution(space_history[step]))\n",
    "    cluster_mean_ts.append(numpy.nanmean(cluster_history[-1]))"
   ]
  },
  {
   "cell_type": "code",
   "execution_count": null,
   "metadata": {
    "collapsed": false
   },
   "outputs": [],
   "source": [
    "cluster_history[9999][9, 11]\n",
    "\n"
   ]
  },
  {
   "cell_type": "code",
   "execution_count": null,
   "metadata": {
    "collapsed": false
   },
   "outputs": [],
   "source": [
    "# Method to plot clustering surface\n",
    "def display_cluster_step(step=1):\n",
    "    # Create figures\n",
    "    f = plt.figure()\n",
    "    plt.imshow(cluster_history[step], interpolation = \"nearest\", cmap='RdBu')\n",
    "    plt.colorbar()\n",
    "    \n",
    "\n",
    "# Create widget\n",
    "interact(display_cluster_step,\n",
    "            step=widgets.IntSlider(min=1, max=len(cluster_history)-1,\n",
    "                                 step=1))"
   ]
  },
  {
   "cell_type": "code",
   "execution_count": null,
   "metadata": {
    "collapsed": false
   },
   "outputs": [],
   "source": [
    "# Plot the average time series\n",
    "f = plt.figure()\n",
    "plt.plot(range(len(cluster_mean_ts)), cluster_mean_ts)"
   ]
  },
  {
   "cell_type": "markdown",
   "metadata": {},
   "source": [
    "Copyright (c) 2014, Michael Bommarito All rights reserved.\n",
    "\n",
    "Redistribution and use in source and binary forms, with or without modification, are permitted provided that the following conditions are met:\n",
    "\n",
    "- Redistributions of source code must retain the above copyright notice, this list of conditions and the following disclaimer.\n",
    "\n",
    "- Redistributions in binary form must reproduce the above copyright notice, this list of conditions and the following disclaimer in the documentation and/or other materials provided with the distribution.\n",
    "\n",
    "THIS SOFTWARE IS PROVIDED BY THE COPYRIGHT HOLDERS AND CONTRIBUTORS \"AS IS\" AND ANY EXPRESS OR IMPLIED WARRANTIES, INCLUDING, BUT NOT LIMITED TO, THE IMPLIED WARRANTIES OF MERCHANTABILITY AND FITNESS FOR A PARTICULAR PURPOSE ARE DISCLAIMED. IN NO EVENT SHALL THE COPYRIGHT HOLDER OR CONTRIBUTORS BE LIABLE FOR ANY DIRECT, INDIRECT, INCIDENTAL, SPECIAL, EXEMPLARY, OR CONSEQUENTIAL DAMAGES (INCLUDING, BUT NOT LIMITED TO, PROCUREMENT OF SUBSTITUTE GOODS OR SERVICES; LOSS OF USE, DATA, OR PROFITS; OR BUSINESS INTERRUPTION) HOWEVER CAUSED AND ON ANY THEORY OF LIABILITY, WHETHER IN CONTRACT, STRICT LIABILITY, OR TORT (INCLUDING NEGLIGENCE OR OTHERWISE) ARISING IN ANY WAY OUT OF THE USE OF THIS SOFTWARE, EVEN IF ADVISED OF THE POSSIBILITY OF SUCH DAMAGE"
   ]
  },
  {
   "cell_type": "code",
   "execution_count": null,
   "metadata": {
    "collapsed": true
   },
   "outputs": [],
   "source": []
  }
 ],
 "metadata": {
  "anaconda-cloud": {},
  "kernelspec": {
   "display_name": "Python [default]",
   "language": "python",
   "name": "python2"
  },
  "language_info": {
   "codemirror_mode": {
    "name": "ipython",
    "version": 2
   },
   "file_extension": ".py",
   "mimetype": "text/x-python",
   "name": "python",
   "nbconvert_exporter": "python",
   "pygments_lexer": "ipython2",
   "version": "2.7.12"
  }
 },
 "nbformat": 4,
 "nbformat_minor": 0
}
